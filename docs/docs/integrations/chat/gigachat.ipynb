{
 "cells": [
  {
   "cell_type": "raw",
   "id": "b4154fbe",
   "metadata": {},
   "source": [
    "---\n",
    "sidebar_label: GigaChat\n",
    "---"
   ]
  },
  {
   "cell_type": "markdown",
   "id": "af63c9db-e4bd-4d3b-a4d7-7927f5541734",
   "metadata": {},
   "source": [
    "# GigaChat\n",
    "\n",
    "This notebook goes over how to use Langchain with [GigaChat](https://giga.chat/) chat model.\n",
    "\n",
    "## Overview\n",
    "### Integration details\n",
    "\n",
    "| Class    | Package                | Local | Serializable | JS support |                                         Package downloads                                          |                                         Package latest                                          |\n",
    "|:---------|:-----------------------| :---: | :---: |:----------:|:--------------------------------------------------------------------------------------------------:|:-----------------------------------------------------------------------------------------------:|\n",
    "| GigaChat | [langchain-gigachat](https://github.com/ai-forever/langchain-gigachat) | ❌ | beta | ❌ | ![PyPI - Downloads](https://img.shields.io/pypi/dm/langchain-gigachat?style=flat-square&label=%20) | ![PyPI - Version](https://img.shields.io/pypi/v/langchain-gigachat?style=flat-square&label=%20) |\n",
    "\n",
    "### Model features\n",
    "| [Tool calling](../../how_to/tool_calling.ipynb) | [Structured output](../../how_to/structured_output.ipynb) | JSON mode | [Image input](../../how_to/multimodal_inputs.ipynb) | Audio input | Video input | [Token-level streaming](../../how_to/chat_streaming.ipynb) | Native async | [Token usage](../../how_to/chat_token_usage_tracking.ipynb) | [Logprobs](../../how_to/logprobs.ipynb) |\n",
    "| :---: | :---: | :---: | :---: |  :---: | :---: | :---: | :---: | :---: | :---: |\n",
    "| ✅ | ✅ | ✅ | ✅ | ❌ | ❌ | ✅ | ❌ | ✅ | ❌ |\n",
    "\n",
    "## Setup\n",
    "\n",
    "To access GigaChat models you'll need to [create a GigaChat account](https://developers.sber.ru/docs/ru/gigachat/quickstart/main), get an API key, and install the `langchain-gigachat` integration package."
   ]
  },
  {
   "cell_type": "code",
   "execution_count": null,
   "id": "f3a8f9cb-ff03-4fb8-8185-ff19f2b8fc89",
   "metadata": {},
   "outputs": [],
   "source": [
    "%pip install --upgrade --quiet  langchain-gigachat"
   ]
  },
  {
   "cell_type": "markdown",
   "id": "7242c121c9e2f2fe",
   "metadata": {},
   "source": [
    "### Initialization\n",
    "\n",
    "To initialize chat model:"
   ]
  },
  {
   "cell_type": "code",
   "execution_count": null,
   "id": "eba2d63b-f871-4f61-b55f-f6092bdc297a",
   "metadata": {},
   "outputs": [],
   "source": [
    "from langchain_gigachat.chat_models import GigaChat\n",
    "\n",
    "giga = GigaChat(\n",
    "    credentials=\"YOUR_AUTHORIZATION_KEY\", model=\"GigaChat-2-Max\", verify_ssl_certs=False\n",
    ")"
   ]
  },
  {
   "cell_type": "markdown",
   "id": "5a532bcab6f30906",
   "metadata": {},
   "source": "To initialize embeddings:"
  },
  {
   "cell_type": "code",
   "execution_count": null,
   "id": "c1488db53c9739bc",
   "metadata": {},
   "outputs": [],
   "source": [
    "from langchain_gigachat.embeddings import GigaChatEmbeddings\n",
    "\n",
    "embedding = GigaChatEmbeddings(\n",
    "    credentials=\"YOUR_AUTHORIZATION_KEY\", verify_ssl_certs=False\n",
    ")"
   ]
  },
  {
   "cell_type": "markdown",
   "id": "96155ba830362bc6",
   "metadata": {},
   "source": "You can check a list of available models [here](https://developers.sber.ru/docs/ru/gigachat/models)."
  },
  {
   "cell_type": "markdown",
   "id": "3d631f52046a0fb5",
   "metadata": {},
   "source": [
    "### Usage\n",
    "\n",
    "Use the GigaChat object to generate responses:"
   ]
  },
  {
   "cell_type": "code",
   "execution_count": null,
   "id": "2f1ce423f77fc411",
   "metadata": {},
   "outputs": [],
   "source": [
    "print(giga.invoke(\"Hello, world!\"))"
   ]
  }
 ],
 "metadata": {
  "kernelspec": {
   "display_name": "Python 3 (ipykernel)",
   "language": "python",
   "name": "python3"
  },
  "language_info": {
   "codemirror_mode": {
    "name": "ipython",
    "version": 3
   },
   "file_extension": ".py",
   "mimetype": "text/x-python",
   "name": "python",
   "nbconvert_exporter": "python",
   "pygments_lexer": "ipython3",
   "version": "3.10.13"
  }
 },
 "nbformat": 4,
 "nbformat_minor": 5
}
